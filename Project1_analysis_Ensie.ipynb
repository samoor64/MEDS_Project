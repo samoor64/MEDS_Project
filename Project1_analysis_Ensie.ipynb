{
 "cells": [
  {
   "cell_type": "code",
   "execution_count": 1,
   "metadata": {},
   "outputs": [],
   "source": [
    "import pandas as pd\n",
    "\n"
   ]
  },
  {
   "cell_type": "markdown",
   "metadata": {},
   "source": [
    "# US"
   ]
  },
  {
   "cell_type": "code",
   "execution_count": 27,
   "metadata": {},
   "outputs": [],
   "source": [
    "us = pd.read_csv(\"USvideos.csv\")\n",
    "us.head()\n",
    "us.dtypes\n",
    "us['trending_date'] = pd.to_datetime(us['trending_date'], format = '%y.%d.%m')\n",
    "us['trending_YearMonth'] = us['trending_date'].apply(lambda x: f'{x.year}-{x.month}')\n",
    "us['publish_time'] = pd.to_datetime(us['publish_time'], format = '%Y-%m-%dT%H:%M:%S.%fZ')\n",
    "us_max_byMonth = us.groupby(['trending_YearMonth','title'])['views','likes','dislikes'].max()\n",
    "us_view_max_byMonth = us_max_byMonth['views'].groupby(level=0, group_keys=False)\n",
    "us_top20_byMonth = us_view_max_byMonth.nlargest(20)"
   ]
  },
  {
   "cell_type": "markdown",
   "metadata": {},
   "source": [
    "# GB"
   ]
  },
  {
   "cell_type": "code",
   "execution_count": 28,
   "metadata": {},
   "outputs": [],
   "source": [
    "gb = pd.read_csv(\"GBvideos.csv\")\n",
    "gb.head()\n",
    "gb.dtypes\n",
    "gb['trending_date'] = pd.to_datetime(gb['trending_date'], format = '%y.%d.%m')\n",
    "gb['trending_YearMonth'] = gb['trending_date'].apply(lambda x: f'{x.year}-{x.month}')\n",
    "gb['publish_time'] = pd.to_datetime(gb['publish_time'], format = '%Y-%m-%dT%H:%M:%S.%fZ')\n",
    "gb_max_byMonth = gb.groupby(['trending_YearMonth','title'])['views','likes','dislikes'].max()\n",
    "gb_view_max_byMonth = gb_max_byMonth['views'].groupby(level=0, group_keys=False)\n",
    "gb_top20_byMonth = gb_view_max_byMonth.nlargest(20)"
   ]
  },
  {
   "cell_type": "markdown",
   "metadata": {},
   "source": [
    "# CA"
   ]
  },
  {
   "cell_type": "code",
   "execution_count": 29,
   "metadata": {},
   "outputs": [],
   "source": [
    "ca = pd.read_csv(\"GBvideos.csv\")\n",
    "ca.head()\n",
    "ca.dtypes\n",
    "ca['trending_date'] = pd.to_datetime(ca['trending_date'], format = '%y.%d.%m')\n",
    "ca['trending_YearMonth'] = ca['trending_date'].apply(lambda x: f'{x.year}-{x.month}')\n",
    "ca['publish_time'] = pd.to_datetime(ca['publish_time'], format = '%Y-%m-%dT%H:%M:%S.%fZ')\n",
    "ca_max_byMonth = ca.groupby(['trending_YearMonth','title'])['views','likes','dislikes'].max()\n",
    "ca_view_max_byMonth = ca_max_byMonth['views'].groupby(level=0, group_keys=False)\n",
    "ca_top20_byMonth = ca_view_max_byMonth.nlargest(20)"
   ]
  },
  {
   "cell_type": "markdown",
   "metadata": {},
   "source": [
    "# DE"
   ]
  },
  {
   "cell_type": "code",
   "execution_count": 31,
   "metadata": {},
   "outputs": [],
   "source": [
    "de = pd.read_csv(\"GBvideos.csv\")\n",
    "de.head()\n",
    "de.dtypes\n",
    "de['trending_date'] = pd.to_datetime(de['trending_date'], format = '%y.%d.%m')\n",
    "de['trending_YearMonth'] = de['trending_date'].apply(lambda x: f'{x.year}-{x.month}')\n",
    "de['publish_time'] = pd.to_datetime(de['publish_time'], format = '%Y-%m-%dT%H:%M:%S.%fZ')\n",
    "de_max_byMonth = de.groupby(['trending_YearMonth','title'])['views','likes','dislikes'].max()\n",
    "de_view_max_byMonth = de_max_byMonth['views'].groupby(level=0, group_keys=False)\n",
    "de_top20_byMonth = de_view_max_byMonth.nlargest(20)"
   ]
  },
  {
   "cell_type": "markdown",
   "metadata": {},
   "source": [
    "# FR"
   ]
  },
  {
   "cell_type": "code",
   "execution_count": 32,
   "metadata": {},
   "outputs": [],
   "source": [
    "fr = pd.read_csv(\"GBvideos.csv\")\n",
    "fr.head()\n",
    "fr.dtypes\n",
    "fr['trending_date'] = pd.to_datetime(fr['trending_date'], format = '%y.%d.%m')\n",
    "fr['trending_YearMonth'] = fr['trending_date'].apply(lambda x: f'{x.year}-{x.month}')\n",
    "fr['publish_time'] = pd.to_datetime(fr['publish_time'], format = '%Y-%m-%dT%H:%M:%S.%fZ')\n",
    "fr_max_byMonth = fr.groupby(['trending_YearMonth','title'])['views','likes','dislikes'].max()\n",
    "fr_view_max_byMonth = fr_max_byMonth['views'].groupby(level=0, group_keys=False)\n",
    "fr_top20_byMonth = fr_view_max_byMonth.nlargest(20)"
   ]
  },
  {
   "cell_type": "code",
   "execution_count": null,
   "metadata": {},
   "outputs": [],
   "source": []
  }
 ],
 "metadata": {
  "kernelspec": {
   "display_name": "Python [conda env:PythonData]",
   "language": "python",
   "name": "conda-env-PythonData-py"
  },
  "language_info": {
   "codemirror_mode": {
    "name": "ipython",
    "version": 3
   },
   "file_extension": ".py",
   "mimetype": "text/x-python",
   "name": "python",
   "nbconvert_exporter": "python",
   "pygments_lexer": "ipython3",
   "version": "3.6.5"
  }
 },
 "nbformat": 4,
 "nbformat_minor": 2
}
